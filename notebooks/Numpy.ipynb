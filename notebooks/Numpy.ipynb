{
 "cells": [
  {
   "cell_type": "markdown",
   "id": "2375867b-74f3-4ebd-abf0-84a7aa4d8a2a",
   "metadata": {},
   "source": [
    "# Introducción a Numpy"
   ]
  },
  {
   "cell_type": "markdown",
   "id": "d53134f0-25cb-4cdd-a404-6acefb693884",
   "metadata": {},
   "source": [
    "[Numpy](https://numpy.org/doc/stable/) es una librería para la computación con Python.\n",
    " * Proporciona Arrays N-Dimencionales.\n",
    " * Implementa funciones matemáticas sofisticadas.\n",
    " * Proporciona herramientas para integrar C/C++ y Fortran.\n",
    " * Proporciona mecanismos para facilitar la realización de las tareas relacionadas con álgebra líneal o números aleatorios."
   ]
  },
  {
   "cell_type": "markdown",
   "id": "1b98fc48-16f3-445a-855b-1402c79f620c",
   "metadata": {},
   "source": [
    "## Imports"
   ]
  },
  {
   "cell_type": "code",
   "execution_count": 1,
   "id": "7a3afbfe-7d00-4a3d-ae02-07c51add52ba",
   "metadata": {},
   "outputs": [],
   "source": [
    "import numpy as np"
   ]
  },
  {
   "cell_type": "markdown",
   "id": "cf04d046-bfce-441a-9850-026c8d48ff0d",
   "metadata": {},
   "source": [
    "## Arrays\n",
    "\n",
    "Un **array** es una estructura de datos que consiste en una creación de elementos (valores o variables), cada uno identificado por almenos un índice o clave. Un array se almacena de modo que la posción de cada elemento se almacena de modo que posción de cada elemento se pueda calcular a partir de su tupla de indice, mediante una fórmula matemática. El tipo más simple de array es un array líneal, también llamado array unidimencional."
   ]
  },
  {
   "cell_type": "markdown",
   "id": "59eb63b2-117c-4f79-a033-102a1c37f4e2",
   "metadata": {},
   "source": [
    "En Numpy:\n",
    "* Cada dimensión se denomina **axis**.\n",
    "* El número de dimenciones se denomina **rank**.\n",
    "* La lista de dimenciones con su correspondiente longitud se denomina **shape**.\n",
    "* El número total de elementos (multiplicación de las dimenciones) y se denomina **size**."
   ]
  },
  {
   "cell_type": "code",
   "execution_count": 2,
   "id": "4ad6f332-97b4-4351-9bc1-6c7a9e54acae",
   "metadata": {},
   "outputs": [
    {
     "data": {
      "text/plain": [
       "array([[0., 0., 0., 0.],\n",
       "       [0., 0., 0., 0.]])"
      ]
     },
     "execution_count": 2,
     "metadata": {},
     "output_type": "execute_result"
    }
   ],
   "source": [
    "# Array cuyos valores son todos 0.\n",
    "a = np.zeros((2,4))\n",
    "a"
   ]
  },
  {
   "cell_type": "markdown",
   "id": "3defe30b-ac3a-41cc-834f-48f6da4c342e",
   "metadata": {},
   "source": [
    "_a_ es un array:\n",
    "\n",
    "* Con dos **axis**, el primero de longitud 2 y segundo de longitud 4.\n",
    "* Con un **rank** igual a 2.\n",
    "* Con un **shape** igual (2,4).\n",
    "* Con un **size** igual a 8."
   ]
  },
  {
   "cell_type": "code",
   "execution_count": 3,
   "id": "f721a184-6f90-4158-840e-dc248f2eab23",
   "metadata": {},
   "outputs": [
    {
     "data": {
      "text/plain": [
       "(2, 4)"
      ]
     },
     "execution_count": 3,
     "metadata": {},
     "output_type": "execute_result"
    }
   ],
   "source": [
    "a.shape"
   ]
  },
  {
   "cell_type": "code",
   "execution_count": 4,
   "id": "79caa5f8-4b87-4e2c-aed6-7e1ca44ede44",
   "metadata": {},
   "outputs": [
    {
     "data": {
      "text/plain": [
       "2"
      ]
     },
     "execution_count": 4,
     "metadata": {},
     "output_type": "execute_result"
    }
   ],
   "source": [
    "a.ndim"
   ]
  },
  {
   "cell_type": "code",
   "execution_count": 5,
   "id": "d2400a85-d020-4555-9c20-05390a39c480",
   "metadata": {},
   "outputs": [
    {
     "data": {
      "text/plain": [
       "8"
      ]
     },
     "execution_count": 5,
     "metadata": {},
     "output_type": "execute_result"
    }
   ],
   "source": [
    "a.size"
   ]
  },
  {
   "cell_type": "markdown",
   "id": "45f0522a-a199-48d5-b77e-a3e43be47c11",
   "metadata": {},
   "source": [
    "## Creación de arrays"
   ]
  },
  {
   "cell_type": "code",
   "execution_count": 6,
   "id": "df609260-0173-4fe1-b8f1-fa939b1ba30c",
   "metadata": {},
   "outputs": [
    {
     "data": {
      "text/plain": [
       "array([[[0., 0., 0., 0.],\n",
       "        [0., 0., 0., 0.],\n",
       "        [0., 0., 0., 0.]],\n",
       "\n",
       "       [[0., 0., 0., 0.],\n",
       "        [0., 0., 0., 0.],\n",
       "        [0., 0., 0., 0.]],\n",
       "\n",
       "       [[0., 0., 0., 0.],\n",
       "        [0., 0., 0., 0.],\n",
       "        [0., 0., 0., 0.]]])"
      ]
     },
     "execution_count": 6,
     "metadata": {},
     "output_type": "execute_result"
    }
   ],
   "source": [
    "# Array cuyos valores son todos 0.\n",
    "np.zeros((3,3,4))"
   ]
  },
  {
   "cell_type": "code",
   "execution_count": 7,
   "id": "d6815a27-bb95-4cb4-a600-1a30b4ca9009",
   "metadata": {},
   "outputs": [
    {
     "data": {
      "text/plain": [
       "array([[[1., 1., 1., 1.],\n",
       "        [1., 1., 1., 1.],\n",
       "        [1., 1., 1., 1.]],\n",
       "\n",
       "       [[1., 1., 1., 1.],\n",
       "        [1., 1., 1., 1.],\n",
       "        [1., 1., 1., 1.]]])"
      ]
     },
     "execution_count": 7,
     "metadata": {},
     "output_type": "execute_result"
    }
   ],
   "source": [
    "# Array cuyos valores son todos 1.\n",
    "np.ones((2,3,4))"
   ]
  },
  {
   "cell_type": "code",
   "execution_count": 8,
   "id": "d28aa91b-2c79-4686-b2a2-c0c39979f253",
   "metadata": {},
   "outputs": [
    {
     "data": {
      "text/plain": [
       "array([[[8, 8, 8, 8],\n",
       "        [8, 8, 8, 8],\n",
       "        [8, 8, 8, 8]],\n",
       "\n",
       "       [[8, 8, 8, 8],\n",
       "        [8, 8, 8, 8],\n",
       "        [8, 8, 8, 8]]])"
      ]
     },
     "execution_count": 8,
     "metadata": {},
     "output_type": "execute_result"
    }
   ],
   "source": [
    "# Array cuyos valores son todos el valor como segundo parámetro de la función.\n",
    "np.full((2,3,4), 8)"
   ]
  },
  {
   "cell_type": "code",
   "execution_count": 9,
   "id": "32b0154f-e210-469d-8454-dd7b942bc07e",
   "metadata": {},
   "outputs": [
    {
     "data": {
      "text/plain": [
       "array([[[ 2.24217761e-316,  0.00000000e+000,  9.88131292e-324,\n",
       "          6.91910845e-310,  6.91910849e-310,  4.94065646e-324,\n",
       "          4.22920193e-321,  3.45845952e-323,  6.91910845e-310],\n",
       "        [ 2.45625467e-316,  0.00000000e+000,  1.48219694e-323,\n",
       "          9.88131292e-324,  6.91910849e-310,  6.91897948e-310,\n",
       "          0.00000000e+000,  0.00000000e+000,  6.91910845e-310],\n",
       "        [ 6.91910845e-310,  0.00000000e+000,  4.58492919e-321,\n",
       "          9.88131292e-324,  6.91910845e-310,  2.45622878e-316,\n",
       "          0.00000000e+000,  1.97626258e-323,  9.88131292e-324]],\n",
       "\n",
       "       [[-3.76836157e-305,  6.91897948e-310,  6.91910844e-310,\n",
       "         -1.29945420e+196,  9.53546696e-322,  2.47066973e-316,\n",
       "          6.91911117e-310,  6.91910844e-310,  6.91910844e-310],\n",
       "        [ 2.21978316e+194,  6.91910844e-310,  6.91910844e-310,\n",
       "         -7.01403526e+030,  6.91910844e-310,  6.91910844e-310,\n",
       "         -9.96574239e-055,  6.91910844e-310,  6.91910844e-310],\n",
       "        [-9.94527162e-302,  6.91910844e-310,  6.91910844e-310,\n",
       "          9.29345403e-251,  6.91910847e-310,  6.91910847e-310,\n",
       "         -2.32445796e+247,  6.91910844e-310,  6.91910844e-310]]])"
      ]
     },
     "execution_count": 9,
     "metadata": {},
     "output_type": "execute_result"
    }
   ],
   "source": [
    "# El resultado de np.empty no es predecible\n",
    "#Se inicializa con los valores del array con lo que haya en memoria en ese momento\n",
    "np.empty((2,3,9))"
   ]
  },
  {
   "cell_type": "code",
   "execution_count": 10,
   "id": "2dc48ff4-869c-4fc9-bba1-917551ca1a09",
   "metadata": {},
   "outputs": [
    {
     "data": {
      "text/plain": [
       "array([[1, 2, 3],\n",
       "       [4, 5, 6]])"
      ]
     },
     "execution_count": 10,
     "metadata": {},
     "output_type": "execute_result"
    }
   ],
   "source": [
    "# Inicializar el array utilizando un array de python.\n",
    "b = np.array([[1,2,3], [4,5,6]])\n",
    "b"
   ]
  },
  {
   "cell_type": "code",
   "execution_count": 11,
   "id": "b640024d-04dc-49d1-9bdb-3ecb130acea1",
   "metadata": {},
   "outputs": [
    {
     "data": {
      "text/plain": [
       "(2, 3)"
      ]
     },
     "execution_count": 11,
     "metadata": {},
     "output_type": "execute_result"
    }
   ],
   "source": [
    "b.shape"
   ]
  },
  {
   "cell_type": "code",
   "execution_count": 12,
   "id": "79932022-c749-4f76-bc2b-637660e814d0",
   "metadata": {},
   "outputs": [
    {
     "name": "stdout",
     "output_type": "stream",
     "text": [
      "[0.         0.66666667 1.33333333 2.         2.66666667 3.33333333\n",
      " 4.         4.66666667 5.33333333 6.        ]\n"
     ]
    }
   ],
   "source": [
    "# Crear un array utilizando una función basada en rangos \n",
    "# (minimo, maximo, número elementos del array)\n",
    "print(np.linspace(0,6,10))"
   ]
  },
  {
   "cell_type": "code",
   "execution_count": 13,
   "id": "07fd5e2e-ca89-4feb-b18d-6ef69ebfd1df",
   "metadata": {},
   "outputs": [
    {
     "data": {
      "text/plain": [
       "array([[[0.50429241, 0.2674615 , 0.29034041, 0.51935007],\n",
       "        [0.75956919, 0.32547327, 0.70133167, 0.73888788],\n",
       "        [0.24069323, 0.37344856, 0.02975433, 0.24917422]],\n",
       "\n",
       "       [[0.87304139, 0.02354189, 0.7027498 , 0.59946078],\n",
       "        [0.36287255, 0.19277712, 0.45742166, 0.10023929],\n",
       "        [0.27541798, 0.982261  , 0.94217295, 0.53453294]],\n",
       "\n",
       "       [[0.62225859, 0.208972  , 0.54542136, 0.54570255],\n",
       "        [0.08341762, 0.91276583, 0.73169724, 0.26766626],\n",
       "        [0.72430504, 0.92054492, 0.7848288 , 0.96577829]]])"
      ]
     },
     "execution_count": 13,
     "metadata": {},
     "output_type": "execute_result"
    }
   ],
   "source": [
    "# Inicializar el array con valores aleatorios.\n",
    "np.random.rand(3,3,4)"
   ]
  },
  {
   "cell_type": "code",
   "execution_count": 14,
   "id": "cc786059-3558-46a0-84d2-c20e77da3bd5",
   "metadata": {},
   "outputs": [
    {
     "data": {
      "text/plain": [
       "array([[ 0.,  2.,  4.,  6.,  8.],\n",
       "       [ 1.,  3.,  5.,  7.,  9.],\n",
       "       [ 2.,  4.,  6.,  8., 10.]])"
      ]
     },
     "execution_count": 14,
     "metadata": {},
     "output_type": "execute_result"
    }
   ],
   "source": [
    "# Inicializar un array, Utilizando una función personalizada.\n",
    "\n",
    "def func(x, y):\n",
    "    return x + 2 * y\n",
    "\n",
    "np.fromfunction(func, (3,5))"
   ]
  },
  {
   "cell_type": "markdown",
   "id": "a557d8b9-8e0e-4704-9890-86e47071c9be",
   "metadata": {},
   "source": [
    "# Acceso a los elementos de un array "
   ]
  },
  {
   "cell_type": "markdown",
   "id": "79b51716-f362-4d1b-ae08-a4380e63ea7d",
   "metadata": {},
   "source": [
    "## Array Unidimencional"
   ]
  },
  {
   "cell_type": "code",
   "execution_count": 15,
   "id": "972cd94c-aa30-42bc-82aa-9c61515c2003",
   "metadata": {},
   "outputs": [
    {
     "name": "stdout",
     "output_type": "stream",
     "text": [
      "Shape: (6,)\n",
      "Array_uni [ 1  3  5  7  9 11]\n"
     ]
    }
   ],
   "source": [
    "# Acceder a los elementos de un array.\n",
    "array_uni = np.array([1, 3, 5, 7, 9, 11])\n",
    "print(\"Shape:\", array_uni.shape)\n",
    "print(\"Array_uni\", array_uni)"
   ]
  },
  {
   "cell_type": "code",
   "execution_count": 16,
   "id": "7b13a0cc-e465-4864-abc8-377b9962a320",
   "metadata": {},
   "outputs": [
    {
     "data": {
      "text/plain": [
       "np.int64(9)"
      ]
     },
     "execution_count": 16,
     "metadata": {},
     "output_type": "execute_result"
    }
   ],
   "source": [
    "# Accediendo al cuarto elemento del array.\n",
    "array_uni[4]"
   ]
  },
  {
   "cell_type": "code",
   "execution_count": 17,
   "id": "4b93265b-a3c5-4313-a29a-9f72e6112334",
   "metadata": {},
   "outputs": [
    {
     "data": {
      "text/plain": [
       "array([5, 7])"
      ]
     },
     "execution_count": 17,
     "metadata": {},
     "output_type": "execute_result"
    }
   ],
   "source": [
    "# Acceder al tercer y cuarto elemento del array\n",
    "array_uni[2:4]"
   ]
  },
  {
   "cell_type": "markdown",
   "id": "23c67eea-1c65-4684-a287-797a0869d008",
   "metadata": {},
   "source": [
    "## Array Multidimencional"
   ]
  },
  {
   "cell_type": "code",
   "execution_count": 18,
   "id": "85731a1c-5802-4690-a531-71adb01be681",
   "metadata": {},
   "outputs": [
    {
     "name": "stdout",
     "output_type": "stream",
     "text": [
      "Shape (2, 4)\n",
      "Array_multi:\n",
      " [[1 2 3 4]\n",
      " [5 6 7 8]]\n"
     ]
    }
   ],
   "source": [
    "# Crear un array multidimencional.\n",
    "array_multi = np.array([[1, 2, 3, 4], [5, 6, 7, 8]])\n",
    "print(\"Shape\", array_multi.shape)\n",
    "print(\"Array_multi:\\n\", array_multi)"
   ]
  },
  {
   "cell_type": "code",
   "execution_count": 19,
   "id": "f0ed93d0-acb4-414a-aef9-1e15c309de97",
   "metadata": {},
   "outputs": [
    {
     "data": {
      "text/plain": [
       "np.int64(4)"
      ]
     },
     "execution_count": 19,
     "metadata": {},
     "output_type": "execute_result"
    }
   ],
   "source": [
    "# Acceder al cuarto elemento del array.\n",
    "array_multi[0, 3]"
   ]
  },
  {
   "cell_type": "code",
   "execution_count": 20,
   "id": "6ea280b3-e2b7-44d5-bf9e-8003cf0b3f8a",
   "metadata": {},
   "outputs": [
    {
     "data": {
      "text/plain": [
       "array([5, 6, 7, 8])"
      ]
     },
     "execution_count": 20,
     "metadata": {},
     "output_type": "execute_result"
    }
   ],
   "source": [
    "# Acceder a la segunda fila del array\n",
    "array_multi[1, :]"
   ]
  },
  {
   "cell_type": "code",
   "execution_count": 21,
   "id": "87c0f23d-3941-4d61-9263-cf4896605aae",
   "metadata": {},
   "outputs": [
    {
     "data": {
      "text/plain": [
       "array([3, 7])"
      ]
     },
     "execution_count": 21,
     "metadata": {},
     "output_type": "execute_result"
    }
   ],
   "source": [
    "# Acceder al primer elemento de las dos primeras filas del array.\n",
    "array_multi[0:2, 2]"
   ]
  },
  {
   "cell_type": "markdown",
   "id": "8f1f2275-86fe-4c54-9628-feccf57a43ab",
   "metadata": {},
   "source": [
    "## Modificación de un array"
   ]
  },
  {
   "cell_type": "code",
   "execution_count": 22,
   "id": "0b2a8284-4634-4562-a338-87cdb7ab2433",
   "metadata": {},
   "outputs": [
    {
     "name": "stdout",
     "output_type": "stream",
     "text": [
      "Shape (28,)\n",
      "Array:\n",
      " [ 0  1  2  3  4  5  6  7  8  9 10 11 12 13 14 15 16 17 18 19 20 21 22 23\n",
      " 24 25 26 27]\n"
     ]
    }
   ],
   "source": [
    "# Crear un arreglo unidimencional e inicializarlo con un rango\n",
    "# de elementos del 0- 27\n",
    "array1 = np.arange(28)\n",
    "print(\"Shape\", array1.shape)\n",
    "print(\"Array:\\n\", array1)"
   ]
  },
  {
   "cell_type": "code",
   "execution_count": 23,
   "id": "3a7986c7-e043-4962-a436-82f74c862299",
   "metadata": {},
   "outputs": [
    {
     "name": "stdout",
     "output_type": "stream",
     "text": [
      "Shape (7, 4)\n",
      "Array:\n",
      " [[ 0  1  2  3]\n",
      " [ 4  5  6  7]\n",
      " [ 8  9 10 11]\n",
      " [12 13 14 15]\n",
      " [16 17 18 19]\n",
      " [20 21 22 23]\n",
      " [24 25 26 27]]\n"
     ]
    }
   ],
   "source": [
    "# Cambiar las dimenciones del array y sus longitudes.\n",
    "array1.shape = (7, 4)\n",
    "print(\"Shape\", array1.shape)\n",
    "print(\"Array:\\n\", array1)"
   ]
  },
  {
   "cell_type": "code",
   "execution_count": 24,
   "id": "cfa35d7a-6b58-4707-8267-c7ee7ac49956",
   "metadata": {},
   "outputs": [
    {
     "name": "stdout",
     "output_type": "stream",
     "text": [
      "Shape (4, 7)\n",
      "Array:\n",
      " [[ 0  1  2  3  4  5  6]\n",
      " [ 7  8  9 10 11 12 13]\n",
      " [14 15 16 17 18 19 20]\n",
      " [21 22 23 24 25 26 27]]\n"
     ]
    }
   ],
   "source": [
    "# El ejemplo anterior devuelve un nuevo array que apunta a los mismos datos.\n",
    "# Nota: modificaciones en el array, modificaran el otro array.\n",
    "array2 = array1.reshape(4, 7)\n",
    "print(\"Shape\", array2.shape)\n",
    "print(\"Array:\\n\", array2)"
   ]
  },
  {
   "cell_type": "code",
   "execution_count": 25,
   "id": "57194d02-f093-42a1-82a3-e5d003214182",
   "metadata": {},
   "outputs": [
    {
     "name": "stdout",
     "output_type": "stream",
     "text": [
      "Array:\n",
      " [[ 0  1  2  3  4  5  6]\n",
      " [ 7  8  9 30 11 12 13]\n",
      " [14 15 16 17 18 19 20]\n",
      " [21 22 23 24 25 26 27]]\n"
     ]
    }
   ],
   "source": [
    "# Modificación del nuevo array devuelto.\n",
    "array2[1, 3] = 30\n",
    "print(\"Array:\\n\", array2)"
   ]
  },
  {
   "cell_type": "code",
   "execution_count": 26,
   "id": "0030d158-0b59-420f-aaba-2564b0168c99",
   "metadata": {},
   "outputs": [
    {
     "name": "stdout",
     "output_type": "stream",
     "text": [
      "Array:\n",
      " [[ 0  1  2  3]\n",
      " [ 4  5  6  7]\n",
      " [ 8  9 30 11]\n",
      " [12 13 14 15]\n",
      " [16 17 18 19]\n",
      " [20 21 22 23]\n",
      " [24 25 26 27]]\n"
     ]
    }
   ],
   "source": [
    "print(\"Array:\\n\", array1)"
   ]
  },
  {
   "cell_type": "code",
   "execution_count": 27,
   "id": "a903bb53-15a3-48d5-90ff-c0b66a4639e1",
   "metadata": {},
   "outputs": [
    {
     "name": "stdout",
     "output_type": "stream",
     "text": [
      "Array:   [ 0  1  2  3  4  5  6  7  8  9 30 11 12 13 14 15 16 17 18 19 20 21 22 23\n",
      " 24 25 26 27]\n"
     ]
    }
   ],
   "source": [
    "# Devolver el array a su estado original\n",
    "print(\"Array:  \", array1.ravel())"
   ]
  },
  {
   "cell_type": "markdown",
   "id": "bb7aa52f-c2fa-4d52-9b9e-6511466960ac",
   "metadata": {},
   "source": [
    "## Operaciones Aritmeticas con Arrays"
   ]
  },
  {
   "cell_type": "code",
   "execution_count": 28,
   "id": "acd48de0-fcc2-4060-944b-dc3f59c3328d",
   "metadata": {},
   "outputs": [
    {
     "name": "stdout",
     "output_type": "stream",
     "text": [
      "Array 1: [ 2  4  6  8 10 12 14 16]\n",
      "Array 2: [0 1 2 3 4 5 6 7]\n"
     ]
    }
   ],
   "source": [
    "array1 = np.arange(2, 18, 2)\n",
    "array2 = np.arange(8)\n",
    "print(\"Array 1:\", array1)\n",
    "print(\"Array 2:\", array2)"
   ]
  },
  {
   "cell_type": "code",
   "execution_count": 29,
   "id": "3cdfb03c-f5fa-45fb-bdb6-980701b8dae2",
   "metadata": {},
   "outputs": [
    {
     "name": "stdout",
     "output_type": "stream",
     "text": [
      "[ 2  5  8 11 14 17 20 23]\n"
     ]
    }
   ],
   "source": [
    "# Suma\n",
    "print(array1 + array2)"
   ]
  },
  {
   "cell_type": "code",
   "execution_count": 30,
   "id": "95e39745-4734-40cf-9de1-9b1c3fd91e81",
   "metadata": {},
   "outputs": [
    {
     "name": "stdout",
     "output_type": "stream",
     "text": [
      "[2 3 4 5 6 7 8 9]\n"
     ]
    }
   ],
   "source": [
    "# Resta\n",
    "print(array1 - array2)"
   ]
  },
  {
   "cell_type": "code",
   "execution_count": 31,
   "id": "1978d3f2-6c76-43ce-a0a6-2275ff62fcfb",
   "metadata": {},
   "outputs": [
    {
     "name": "stdout",
     "output_type": "stream",
     "text": [
      "[  0   4  12  24  40  60  84 112]\n"
     ]
    }
   ],
   "source": [
    "# Multiplicación \n",
    "# Nota: No es una multiplicación de matrices\n",
    "print(array1 * array2)"
   ]
  },
  {
   "cell_type": "code",
   "execution_count": 35,
   "id": "5c32427d-a775-45ea-8dac-ab4a84934f47",
   "metadata": {},
   "outputs": [
    {
     "name": "stdout",
     "output_type": "stream",
     "text": [
      "Shape (5,)\n",
      "Array1:\n",
      " [0 1 2 3 4]\n",
      "\n",
      "\n",
      "Shape (1,)\n",
      "Array2:\n",
      " [3]\n"
     ]
    }
   ],
   "source": [
    "## Broadcasting\n",
    "# Si se aplican operaciones aritmeticas sobre arrays que no tienen la misma forma\n",
    "#(shape), Numpy aplica una propiedad que se llama Broadcasting\n",
    "array1 = np.arange(5)\n",
    "array2 = np.array([3])\n",
    "print(\"Shape\", array1.shape)\n",
    "print(\"Array1:\\n\", array1)\n",
    "print(\"\\n\")\n",
    "print(\"Shape\", array2.shape)\n",
    "print(\"Array2:\\n\", array2)"
   ]
  },
  {
   "cell_type": "code",
   "execution_count": 36,
   "id": "06b313fe-4362-4a8b-adf2-72bd196c669b",
   "metadata": {},
   "outputs": [
    {
     "data": {
      "text/plain": [
       "array([3, 4, 5, 6, 7])"
      ]
     },
     "execution_count": 36,
     "metadata": {},
     "output_type": "execute_result"
    }
   ],
   "source": [
    "# Suma de ambos arrays\n",
    "array1 + array2"
   ]
  },
  {
   "cell_type": "code",
   "execution_count": 37,
   "id": "ad10ece0-690f-4c9b-9a18-0dd669051006",
   "metadata": {},
   "outputs": [
    {
     "data": {
      "text/plain": [
       "array([ 0,  3,  6,  9, 12])"
      ]
     },
     "execution_count": 37,
     "metadata": {},
     "output_type": "execute_result"
    }
   ],
   "source": [
    "# Multiplicación \n",
    "array1 * array2"
   ]
  },
  {
   "cell_type": "markdown",
   "id": "5a8f086e-a75b-4745-8ecf-04735f272ad3",
   "metadata": {},
   "source": [
    "## Funciones estadistucas sobre arrays"
   ]
  },
  {
   "cell_type": "code",
   "execution_count": 38,
   "id": "021c1e09-f511-4cce-83a6-6e39c7859159",
   "metadata": {},
   "outputs": [
    {
     "name": "stdout",
     "output_type": "stream",
     "text": [
      "Array1:\n",
      " [ 1  3  5  7  9 11 13 15 17 19]\n"
     ]
    }
   ],
   "source": [
    "# Creación de un array unidimencional\n",
    "array1 = np.arange(1, 20, 2)\n",
    "print(\"Array1:\\n\", array1)"
   ]
  },
  {
   "cell_type": "code",
   "execution_count": 39,
   "id": "055ced88-f5ff-4714-980a-cf15aa66cbe6",
   "metadata": {},
   "outputs": [
    {
     "data": {
      "text/plain": [
       "np.float64(10.0)"
      ]
     },
     "execution_count": 39,
     "metadata": {},
     "output_type": "execute_result"
    }
   ],
   "source": [
    "# Medida de los elementos del array\n",
    "array1.mean()"
   ]
  },
  {
   "cell_type": "markdown",
   "id": "510d7bff-6cec-4016-bd52-3cac67b5de4c",
   "metadata": {},
   "source": [
    "## Funcones universales proporcionadas por numpy: **ufunc**."
   ]
  },
  {
   "cell_type": "code",
   "execution_count": 40,
   "id": "00da893e-8359-4c3e-9ef9-ee8bd706dc1d",
   "metadata": {},
   "outputs": [
    {
     "data": {
      "text/plain": [
       "array([  1,   9,  25,  49,  81, 121, 169, 225, 289, 361])"
      ]
     },
     "execution_count": 40,
     "metadata": {},
     "output_type": "execute_result"
    }
   ],
   "source": [
    "# Cuadrados de los elementos del array\n",
    "np.square(array1)"
   ]
  },
  {
   "cell_type": "code",
   "execution_count": 41,
   "id": "8c6cd76e-ec8c-4e81-ac45-2638a53082b7",
   "metadata": {},
   "outputs": [
    {
     "data": {
      "text/plain": [
       "array([1.        , 1.73205081, 2.23606798, 2.64575131, 3.        ,\n",
       "       3.31662479, 3.60555128, 3.87298335, 4.12310563, 4.35889894])"
      ]
     },
     "execution_count": 41,
     "metadata": {},
     "output_type": "execute_result"
    }
   ],
   "source": [
    "# Raíz cuadrada de los elementos del array.\n",
    "np. sqrt(array1)"
   ]
  },
  {
   "cell_type": "code",
   "execution_count": 42,
   "id": "ea95054a-2283-4d60-8c95-1b457aed7887",
   "metadata": {},
   "outputs": [
    {
     "data": {
      "text/plain": [
       "array([2.71828183e+00, 2.00855369e+01, 1.48413159e+02, 1.09663316e+03,\n",
       "       8.10308393e+03, 5.98741417e+04, 4.42413392e+05, 3.26901737e+06,\n",
       "       2.41549528e+07, 1.78482301e+08])"
      ]
     },
     "execution_count": 42,
     "metadata": {},
     "output_type": "execute_result"
    }
   ],
   "source": [
    "# Exponencial de los elementos del array\n",
    "np.exp(array1)"
   ]
  },
  {
   "cell_type": "code",
   "execution_count": 43,
   "id": "e4a74269-5353-447b-9b1e-35d56fa5b1c6",
   "metadata": {},
   "outputs": [
    {
     "data": {
      "text/plain": [
       "array([0.        , 1.09861229, 1.60943791, 1.94591015, 2.19722458,\n",
       "       2.39789527, 2.56494936, 2.7080502 , 2.83321334, 2.94443898])"
      ]
     },
     "execution_count": 43,
     "metadata": {},
     "output_type": "execute_result"
    }
   ],
   "source": [
    "# Logaritmo natural de los elementos de un array\n",
    "np.log(array1)"
   ]
  },
  {
   "cell_type": "markdown",
   "id": "771a1542-3592-42eb-a101-58dfb52e7c6c",
   "metadata": {},
   "source": [
    "## Faltante matplotlib"
   ]
  },
  {
   "cell_type": "code",
   "execution_count": 44,
   "id": "f36e24ec-0f5a-4e71-9fd2-0726bd63e99f",
   "metadata": {},
   "outputs": [
    {
     "data": {
      "text/plain": [
       "array([[ 2.06447807,  1.18808335,  0.860508  , -1.84854567],\n",
       "       [-0.51966024, -0.14783729,  0.92859626, -2.13819552]])"
      ]
     },
     "execution_count": 44,
     "metadata": {},
     "output_type": "execute_result"
    }
   ],
   "source": [
    "# Iniciar array con valores aleatorios conforme a una distribución normal.\n",
    "np.random.randn(2, 4)"
   ]
  },
  {
   "cell_type": "code",
   "execution_count": 46,
   "id": "c3b510ee-c88c-4666-93a4-00f31dd5304b",
   "metadata": {},
   "outputs": [
    {
     "data": {
      "image/png": "[encoded data removed]",
      "text/plain": [
       "<Figure size 640x480 with 1 Axes>"
      ]
     },
     "metadata": {},
     "output_type": "display_data"
    }
   ],
   "source": [
    "%matplotlib inline\n",
    "import matplotlib.pyplot as plt\n",
    "\n",
    "c = np.random.randn(10000)\n",
    "plt.hist(c, bins=200)\n",
    "plt.show()"
   ]
  },
  {
   "cell_type": "code",
   "execution_count": null,
   "id": "c05d1643-904e-43fa-8822-78ce93f4285a",
   "metadata": {},
   "outputs": [],
   "source": []
  }
 ],
 "metadata": {
  "kernelspec": {
   "display_name": "Python 3 (ipykernel)",
   "language": "python",
   "name": "python3"
  },
  "language_info": {
   "codemirror_mode": {
    "name": "ipython",
    "version": 3
   },
   "file_extension": ".py",
   "mimetype": "text/x-python",
   "name": "python",
   "nbconvert_exporter": "python",
   "pygments_lexer": "ipython3",
   "version": "3.9.19"
  }
 },
 "nbformat": 4,
 "nbformat_minor": 5
}
